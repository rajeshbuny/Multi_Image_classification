{
  "nbformat": 4,
  "nbformat_minor": 0,
  "metadata": {
    "colab": {
      "name": "Busigence_Assignment1.ipynb",
      "version": "0.3.2",
      "provenance": [],
      "collapsed_sections": [
        "uufd1oKVZkla"
      ],
      "toc_visible": true,
      "include_colab_link": true
    },
    "kernelspec": {
      "name": "python3",
      "display_name": "Python 3"
    }
  },
  "cells": [
    {
      "cell_type": "markdown",
      "metadata": {
        "id": "view-in-github",
        "colab_type": "text"
      },
      "source": [
        "<a href=\"https://colab.research.google.com/github/rajeshbuny/Multi_Image_classification/blob/master/Busigence_Assignment1.ipynb\" target=\"_parent\"><img src=\"https://colab.research.google.com/assets/colab-badge.svg\" alt=\"Open In Colab\"/></a>"
      ]
    },
    {
      "cell_type": "markdown",
      "metadata": {
        "id": "QAuf-FO_wZjj",
        "colab_type": "text"
      },
      "source": [
        "# **Assignment 1 Image Classification**"
      ]
    },
    {
      "cell_type": "code",
      "metadata": {
        "id": "XoOVPjKimcm9",
        "colab_type": "code",
        "outputId": "f09ba371-52e8-4e76-a60b-6511513c9eab",
        "colab": {
          "base_uri": "https://localhost:8080/",
          "height": 54
        }
      },
      "source": [
        "from google.colab import drive\n",
        "drive.mount('/content/drive')"
      ],
      "execution_count": 0,
      "outputs": [
        {
          "output_type": "stream",
          "text": [
            "Drive already mounted at /content/drive; to attempt to forcibly remount, call drive.mount(\"/content/drive\", force_remount=True).\n"
          ],
          "name": "stdout"
        }
      ]
    },
    {
      "cell_type": "code",
      "metadata": {
        "id": "opUwf09jdmao",
        "colab_type": "code",
        "colab": {}
      },
      "source": [
        "import pandas as pd\n",
        "import numpy as np\n",
        "import matplotlib.pyplot as plt\n",
        "import tensorflow as tf\n",
        "import cv2\n",
        "import os\n",
        "import random"
      ],
      "execution_count": 0,
      "outputs": []
    },
    {
      "cell_type": "markdown",
      "metadata": {
        "id": "uufd1oKVZkla",
        "colab_type": "text"
      },
      "source": [
        "# **External module to load data and splitting**"
      ]
    },
    {
      "cell_type": "code",
      "metadata": {
        "id": "NwUMQP7mZe4q",
        "colab_type": "code",
        "colab": {}
      },
      "source": [
        "import os\n",
        "import glob\n",
        "import numpy as np\n",
        "import cv2\n",
        "from sklearn.utils import shuffle\n",
        "\n",
        "\n",
        "def load_train(train_path, image_size, classes):\n",
        "    images = []\n",
        "    labels = []\n",
        "    ids = []\n",
        "    cls = []\n",
        "\n",
        "    print('Reading training images')\n",
        "    for fld in classes:   # assuming data directory has a separate folder for each class, and that each folder is named after the class\n",
        "        index = classes.index(fld)\n",
        "        print('Loading {} files (Index: {})'.format(fld, index))\n",
        "        path = os.path.join(train_path, fld, '*g')\n",
        "        files = glob.glob(path)\n",
        "        for fl in files:\n",
        "            image = cv2.imread(fl)\n",
        "            image = cv2.resize(image, (image_size, image_size), cv2.INTER_LINEAR)\n",
        "            images.append(image)\n",
        "            label = np.zeros(len(classes))\n",
        "            label[index] = 1.0\n",
        "            labels.append(label)\n",
        "            flbase = os.path.basename(fl)\n",
        "            ids.append(flbase)\n",
        "            cls.append(fld)\n",
        "    images = np.array(images)\n",
        "    labels = np.array(labels)\n",
        "    ids = np.array(ids)\n",
        "    cls = np.array(cls)\n",
        "\n",
        "    return images, labels, ids, cls\n",
        "\n",
        "\n",
        "def load_test(test_path, image_size):\n",
        "  path = os.path.join(test_path, '*g')\n",
        "  files = sorted(glob.glob(path))\n",
        "\n",
        "  X_test = []\n",
        "  X_test_id = []\n",
        "  print(\"Reading test images\")\n",
        "  for fl in files:\n",
        "      flbase = os.path.basename(fl)\n",
        "      img = cv2.imread(fl)\n",
        "      img = cv2.resize(img, (image_size, image_size), cv2.INTER_LINEAR)\n",
        "      X_test.append(img)\n",
        "      X_test_id.append(flbase)\n",
        "\n",
        "  ### because we're not creating a DataSet object for the test images, normalization happens here\n",
        "  X_test = np.array(X_test, dtype=np.uint8)\n",
        "  X_test = X_test.astype('float32')\n",
        "  X_test = X_test / 255\n",
        "\n",
        "  return X_test, X_test_id\n",
        "\n",
        "\n",
        "\n",
        "class DataSet(object):\n",
        "\n",
        "  def __init__(self, images, labels, ids, cls):\n",
        "    \"\"\"Construct a DataSet. one_hot arg is used only if fake_data is true.\"\"\"\n",
        "\n",
        "    self._num_examples = images.shape[0]\n",
        "\n",
        "\n",
        "    # Convert shape from [num examples, rows, columns, depth]\n",
        "    # to [num examples, rows*columns] (assuming depth == 1)\n",
        "    # Convert from [0, 255] -> [0.0, 1.0].\n",
        "\n",
        "    images = images.astype(np.float32)\n",
        "    images = np.multiply(images, 1.0 / 255.0)\n",
        "\n",
        "    self._images = images\n",
        "    self._labels = labels\n",
        "    self._ids = ids\n",
        "    self._cls = cls\n",
        "    self._epochs_completed = 0\n",
        "    self._index_in_epoch = 0\n",
        "\n",
        "  @property\n",
        "  def images(self):\n",
        "    return self._images\n",
        "\n",
        "  @property\n",
        "  def labels(self):\n",
        "    return self._labels\n",
        "\n",
        "  @property\n",
        "  def ids(self):\n",
        "    return self._ids\n",
        "\n",
        "  @property\n",
        "  def cls(self):\n",
        "    return self._cls\n",
        "\n",
        "  @property\n",
        "  def num_examples(self):\n",
        "    return self._num_examples\n",
        "\n",
        "  @property\n",
        "  def epochs_completed(self):\n",
        "    return self._epochs_completed\n",
        "\n",
        "  def next_batch(self, batch_size):\n",
        "    \"\"\"Return the next `batch_size` examples from this data set.\"\"\"\n",
        "    start = self._index_in_epoch\n",
        "    self._index_in_epoch += batch_size\n",
        "\n",
        "    if self._index_in_epoch > self._num_examples:\n",
        "      # Finished epoch\n",
        "      self._epochs_completed += 1\n",
        "\n",
        "      # # Shuffle the data (maybe)\n",
        "      # perm = np.arange(self._num_examples)\n",
        "      # np.random.shuffle(perm)\n",
        "      # self._images = self._images[perm]\n",
        "      # self._labels = self._labels[perm]\n",
        "      # Start next epoch\n",
        "\n",
        "      start = 0\n",
        "      self._index_in_epoch = batch_size\n",
        "      assert batch_size <= self._num_examples\n",
        "    end = self._index_in_epoch\n",
        "\n",
        "    return self._images[start:end], self._labels[start:end], self._ids[start:end], self._cls[start:end]\n",
        "\n",
        "\n",
        "def read_train_sets(train_path, image_size, classes, validation_size=0):\n",
        "  class DataSets(object):\n",
        "    pass\n",
        "  data_sets = DataSets()\n",
        "\n",
        "  images, labels, ids, cls = load_train(train_path, image_size, classes)\n",
        "  images, labels, ids, cls = shuffle(images, labels, ids, cls)  # shuffle the data\n",
        "\n",
        "  if isinstance(validation_size, float):\n",
        "    validation_size = int(validation_size * images.shape[0])\n",
        "\n",
        "  validation_images = images[:validation_size]\n",
        "  validation_labels = labels[:validation_size]\n",
        "  validation_ids = ids[:validation_size]\n",
        "  validation_cls = cls[:validation_size]\n",
        "\n",
        "  train_images = images[validation_size:]\n",
        "  train_labels = labels[validation_size:]\n",
        "  train_ids = ids[validation_size:]\n",
        "  train_cls = cls[validation_size:]\n",
        "\n",
        "  data_sets.train = DataSet(train_images, train_labels, train_ids, train_cls)\n",
        "  data_sets.valid = DataSet(validation_images, validation_labels, validation_ids, validation_cls)\n",
        "\n",
        "  return data_sets\n",
        "\n",
        "\n",
        "def read_test_set(test_path, image_size):\n",
        "  images, ids  = load_test(test_path, image_size)\n",
        "  return images, ids"
      ],
      "execution_count": 0,
      "outputs": []
    },
    {
      "cell_type": "markdown",
      "metadata": {
        "id": "nMCsiu_hZ8SG",
        "colab_type": "text"
      },
      "source": [
        "# **Configurations and Hyperparameters Setting**"
      ]
    },
    {
      "cell_type": "code",
      "metadata": {
        "id": "4jdjZnE_wrXk",
        "colab_type": "code",
        "colab": {}
      },
      "source": [
        "# Convolutional Layer 1.\n",
        "filter_size1 = 3 \n",
        "num_filters1 = 32\n",
        "\n",
        "# Convolutional Layer 2.\n",
        "filter_size2 = 3\n",
        "num_filters2 = 32\n",
        "\n",
        "# Convolutional Layer 3.\n",
        "filter_size3 = 3\n",
        "num_filters3 = 64\n",
        "\n",
        "# Fully-connected layer.\n",
        "fc_size = 128             # Number of neurons in fully-connected layer.\n",
        "\n",
        "# Number of color channels for the images: 1 channel for gray-scale.\n",
        "num_channels = 3\n",
        "\n",
        "# image dimensions (only squares for now)\n",
        "img_size = 128\n",
        "\n",
        "# Size of image when flattened to a single dimension\n",
        "img_size_flat = img_size * img_size * num_channels\n",
        "\n",
        "# Tuple with height and width of images used to reshape arrays.\n",
        "img_shape = (img_size, img_size)\n",
        "\n",
        "# class info\n",
        "classes = ['category 1', 'category 2', 'category 3' , 'category 4']\n",
        "num_classes = len(classes)\n",
        "\n",
        "# batch size\n",
        "batch_size = 32\n",
        "\n",
        "# validation split\n",
        "validation_size = .2\n",
        "\n",
        "# how long to wait after validation loss stops improving before terminating training\n",
        "early_stopping = None\n",
        "\n",
        "# paths\n",
        "train_path = 'drive/My Drive/Input/Dataset/train/'\n",
        "test_path = 'drive/My Drive/Input/Dataset/test/'\n",
        "checkpoint_dir = \"drive/My Drive/models/\"\n"
      ],
      "execution_count": 0,
      "outputs": []
    },
    {
      "cell_type": "markdown",
      "metadata": {
        "id": "-4exKzvqaKBb",
        "colab_type": "text"
      },
      "source": [
        "# **Loading The Dataset**"
      ]
    },
    {
      "cell_type": "code",
      "metadata": {
        "id": "ONUgn1LZwNVu",
        "colab_type": "code",
        "outputId": "32c98bf7-3968-47d0-8d1c-3a22358c0a95",
        "colab": {
          "base_uri": "https://localhost:8080/",
          "height": 119
        }
      },
      "source": [
        "data = read_train_sets(train_path, img_size, classes, validation_size=validation_size)\n",
        "test_images, test_ids = read_test_set(test_path, img_size)"
      ],
      "execution_count": 0,
      "outputs": [
        {
          "output_type": "stream",
          "text": [
            "Reading training images\n",
            "Loading category 1 files (Index: 0)\n",
            "Loading category 2 files (Index: 1)\n",
            "Loading category 3 files (Index: 2)\n",
            "Loading category 4 files (Index: 3)\n",
            "Reading test images\n"
          ],
          "name": "stdout"
        }
      ]
    },
    {
      "cell_type": "code",
      "metadata": {
        "id": "adODEpY3iwsp",
        "colab_type": "code",
        "outputId": "d92e6d55-04ec-4b97-a39f-b902ffdbcc99",
        "colab": {
          "base_uri": "https://localhost:8080/",
          "height": 85
        }
      },
      "source": [
        "print(\"Size of:\")\n",
        "print(\"- Training-set:\\t\\t{}\".format(len(data.train.labels)))\n",
        "print(\"- Test-set:\\t\\t{}\".format(len(test_images)))\n",
        "print(\"- Validation-set:\\t{}\".format(len(data.valid.labels)))"
      ],
      "execution_count": 0,
      "outputs": [
        {
          "output_type": "stream",
          "text": [
            "Size of:\n",
            "- Training-set:\t\t352\n",
            "- Test-set:\t\t30\n",
            "- Validation-set:\t88\n"
          ],
          "name": "stdout"
        }
      ]
    },
    {
      "cell_type": "code",
      "metadata": {
        "id": "KT6OFbQ1g4Cc",
        "colab_type": "code",
        "colab": {}
      },
      "source": [
        "\n",
        "def plot_images(images, cls_true, cls_pred=None):\n",
        "    \n",
        "    if len(images) == 0:\n",
        "        print(\"no images to show\")\n",
        "        return \n",
        "    else:\n",
        "        random_indices = random.sample(range(len(images)), min(len(images), 9))\n",
        "        \n",
        "        \n",
        "    images, cls_true  = zip(*[(images[i], cls_true[i]) for i in random_indices])\n",
        "    \n",
        "    # Create figure with 3x3 sub-plots.\n",
        "    fig, axes = plt.subplots(3, 3)\n",
        "    fig.subplots_adjust(hspace=0.3, wspace=0.3)\n",
        "\n",
        "    for i, ax in enumerate(axes.flat):\n",
        "        # Plot image.\n",
        "        ax.imshow(images[i].reshape(img_size, img_size, num_channels))\n",
        "\n",
        "        # Show true and predicted classes.\n",
        "        if cls_pred is None:\n",
        "            xlabel = \"True: {0}\".format(cls_true[i])\n",
        "        else:\n",
        "            xlabel = \"True: {0}, Pred: {1}\".format(cls_true[i], cls_pred[i])\n",
        "\n",
        "        # Show the classes as the label on the x-axis.\n",
        "        ax.set_xlabel(xlabel)\n",
        "        \n",
        "        # Remove ticks from the plot.\n",
        "        ax.set_xticks([])\n",
        "        ax.set_yticks([])\n",
        "    \n",
        "    # Ensure the plot is shown correctly with multiple plots\n",
        "    # in a single Notebook cell.\n",
        "    plt.show()"
      ],
      "execution_count": 0,
      "outputs": []
    },
    {
      "cell_type": "markdown",
      "metadata": {
        "id": "OdROtDvDR0t3",
        "colab_type": "text"
      },
      "source": [
        "## Ploting the dataset randomly with labels"
      ]
    },
    {
      "cell_type": "code",
      "metadata": {
        "id": "J57uJpLExKlY",
        "colab_type": "code",
        "outputId": "b4fab1f8-3aaf-44df-bcd7-7eef4db9b961",
        "colab": {
          "base_uri": "https://localhost:8080/",
          "height": 266
        }
      },
      "source": [
        "images, cls_true  = data.train.images, data.train.cls\n",
        "\n",
        "# Plot the images and labels using our helper-function above.\n",
        "plot_images(images=images, cls_true=cls_true)"
      ],
      "execution_count": 0,
      "outputs": [
        {
          "output_type": "display_data",
          "data": {
            "image/png": "[encoded data removed]",
            "text/plain": [
              "<Figure size 432x288 with 9 Axes>"
            ]
          },
          "metadata": {
            "tags": []
          }
        }
      ]
    },
    {
      "cell_type": "markdown",
      "metadata": {
        "id": "fjlC9P95aZvi",
        "colab_type": "text"
      },
      "source": [
        "# **TensorFlow Run**\n",
        "## Create TensorFlow session"
      ]
    },
    {
      "cell_type": "code",
      "metadata": {
        "id": "dAEaGPUb4qYX",
        "colab_type": "code",
        "outputId": "5aa4c63c-272c-4a82-b7c0-1d2c4e54b65c",
        "colab": {
          "base_uri": "https://localhost:8080/",
          "height": 105
        }
      },
      "source": [
        "\n",
        "#\n",
        "tf.summary.FileWriterCache.clear()\n",
        "session = tf.Session()\n",
        "\n",
        "\n",
        "x = tf.placeholder(tf.float32, shape=[None, img_size,img_size,num_channels], name='x')\n",
        "\n",
        "## labels\n",
        "y_true = tf.placeholder(tf.float32, shape=[None, num_classes], name='y_true')\n",
        "y_true_cls = tf.argmax(y_true, dimension=1)"
      ],
      "execution_count": 0,
      "outputs": [
        {
          "output_type": "stream",
          "text": [
            "WARNING: Logging before flag parsing goes to stderr.\n",
            "W0802 07:32:21.012135 139825927694208 deprecation.py:506] From <ipython-input-9-0d7bc15f178b>:9: calling argmax (from tensorflow.python.ops.math_ops) with dimension is deprecated and will be removed in a future version.\n",
            "Instructions for updating:\n",
            "Use the `axis` argument instead\n"
          ],
          "name": "stderr"
        }
      ]
    },
    {
      "cell_type": "code",
      "metadata": {
        "id": "zFGBba3jkNMz",
        "colab_type": "code",
        "colab": {}
      },
      "source": [
        "\n",
        "def create_weights(shape):\n",
        "    return tf.Variable(tf.truncated_normal(shape, stddev=0.05))\n",
        "\n",
        "def create_biases(size):\n",
        "    return tf.Variable(tf.constant(0.05, shape=[size]))\n"
      ],
      "execution_count": 0,
      "outputs": []
    },
    {
      "cell_type": "markdown",
      "metadata": {
        "id": "Xn0pwG_IkPWv",
        "colab_type": "text"
      },
      "source": [
        "# Creating Convolutional Layers\n",
        "## Using Convolutional Neural Network (CNN) algorithm\n",
        "Create the first convolutional layer. It takes x_image as input and creates num_filters1 different filters, each having width and height equal to filter_size1. Finally we wish to down-sample the image so it is half the size by using 2x2 max-pooling."
      ]
    },
    {
      "cell_type": "code",
      "metadata": {
        "id": "kbrUgpHMkREV",
        "colab_type": "code",
        "colab": {}
      },
      "source": [
        "def create_convolutional_layer(input,\n",
        "               num_input_channels, \n",
        "               conv_filter_size,        \n",
        "               num_filters):  \n",
        "    \n",
        "    ## We shall define the weights that will be trained using create_weights function.\n",
        "    weights = create_weights(shape=[conv_filter_size, conv_filter_size, num_input_channels, num_filters])\n",
        "    ## We create biases using the create_biases function. These are also trained.\n",
        "    biases = create_biases(num_filters)\n",
        "\n",
        "    ## Creating the convolutional layer\n",
        "    layer = tf.nn.conv2d(input=input,\n",
        "                     filter=weights,\n",
        "                     strides=[1, 1, 1, 1],\n",
        "                     padding='SAME')\n",
        "\n",
        "    layer += biases\n",
        "\n",
        "    ## We shall be using max-pooling.  \n",
        "    layer = tf.nn.max_pool(value=layer,\n",
        "                            ksize=[1, 2, 2, 1],\n",
        "                            strides=[1, 2, 2, 1],\n",
        "                            padding='SAME')\n",
        "    ## Output of pooling is fed to Relu which is the activation function for us.\n",
        "    layer = tf.nn.relu(layer)\n",
        "    \n",
        "    tf.summary.histogram(\"weight\",weights)\n",
        "    tf.summary.histogram(\"Bias\",biases )\n",
        "    tf.summary.histogram(\"activation\",layer)\n",
        "\n",
        "    return layer"
      ],
      "execution_count": 0,
      "outputs": []
    },
    {
      "cell_type": "code",
      "metadata": {
        "id": "Xz1zj-TGkRBa",
        "colab_type": "code",
        "colab": {}
      },
      "source": [
        "def create_flatten_layer(layer):\n",
        "    #We know that the shape of the layer will be [batch_size img_size img_size num_channels] \n",
        "    # But let's get it from the previous layer.\n",
        "    layer_shape = layer.get_shape()\n",
        "\n",
        "    ## Number of features will be img_height * img_width* num_channels. But we shall calculate it in place of hard-coding it.\n",
        "    num_features = layer_shape[1:4].num_elements()\n",
        "\n",
        "    ## Now, we Flatten the layer so we shall have to reshape to num_features\n",
        "    layer = tf.reshape(layer, [-1, num_features])\n",
        "\n",
        "    return layer"
      ],
      "execution_count": 0,
      "outputs": []
    },
    {
      "cell_type": "code",
      "metadata": {
        "id": "4kqHsUtS2wm9",
        "colab_type": "code",
        "colab": {}
      },
      "source": [
        "def create_fc_layer(input,          \n",
        "             num_inputs,    \n",
        "             num_outputs,\n",
        "             use_relu=True):\n",
        "    \n",
        "    #Let's define trainable weights and biases.\n",
        "    weights = create_weights(shape=[num_inputs, num_outputs])\n",
        "    biases = create_biases(num_outputs)\n",
        "\n",
        "    # Fully connected layer takes input x and produces wx+b.Since, these are matrices, we use matmul function in Tensorflow\n",
        "    layer = tf.matmul(input, weights) + biases\n",
        "    if use_relu:\n",
        "        layer = tf.nn.relu(layer)\n",
        "\n",
        "    tf.summary.histogram(\"weight\",weights)\n",
        "    tf.summary.histogram(\"Bias\",biases )\n",
        "    tf.summary.histogram(\"activation\",layer)\n",
        "    return layer"
      ],
      "execution_count": 0,
      "outputs": []
    },
    {
      "cell_type": "code",
      "metadata": {
        "id": "QFzqZxGk2-nd",
        "colab_type": "code",
        "outputId": "207903ad-cb0f-47a6-bfc1-138b37f99474",
        "colab": {
          "base_uri": "https://localhost:8080/",
          "height": 190
        }
      },
      "source": [
        "\n",
        "layer_conv1 = create_convolutional_layer(input=x,\n",
        "               num_input_channels=num_channels,\n",
        "               conv_filter_size=filter_size1,\n",
        "               num_filters=num_filters1)\n",
        "layer_conv2 = create_convolutional_layer(input=layer_conv1,\n",
        "               num_input_channels=num_filters1,\n",
        "               conv_filter_size=filter_size2,\n",
        "               num_filters=num_filters2)\n",
        "\n",
        "layer_conv3= create_convolutional_layer(input=layer_conv2,\n",
        "               num_input_channels=num_filters2,\n",
        "               conv_filter_size=filter_size3,\n",
        "               num_filters=num_filters3)\n",
        "          \n",
        "layer_flat = create_flatten_layer(layer_conv3)\n",
        "\n",
        "layer_fc1 = create_fc_layer(input=layer_flat,\n",
        "                     num_inputs=layer_flat.get_shape()[1:4].num_elements(),\n",
        "                     num_outputs=fc_size,\n",
        "                     use_relu=True)\n",
        "\n",
        "layer_fc2 = create_fc_layer(input=layer_fc1,\n",
        "                     num_inputs=fc_size,\n",
        "                     num_outputs=num_classes,\n",
        "                     use_relu=False) \n",
        "\n",
        "y_pred = tf.nn.softmax(layer_fc2,name='y_pred')\n",
        "\n",
        "y_pred_cls = tf.argmax(y_pred, dimension=1)\n",
        "session.run(tf.global_variables_initializer())\n",
        "cross_entropy = tf.nn.softmax_cross_entropy_with_logits(logits=layer_fc2,\n",
        "                                                    labels=y_true)\n",
        "cost = tf.reduce_mean(cross_entropy)\n",
        "optimizer = tf.train.AdamOptimizer(learning_rate=1e-4).minimize(cost)\n",
        "correct_prediction = tf.equal(y_pred_cls, y_true_cls)\n",
        "accuracy = tf.reduce_mean(tf.cast(correct_prediction, tf.float32))\n",
        "\n",
        "\n",
        "session.run(tf.global_variables_initializer()) \n",
        "\n",
        "tf.summary.scalar(\"cross-entropy\", cross_entropy)\n",
        "tf.summary.scalar(\"accuracy\",accuracy)"
      ],
      "execution_count": 0,
      "outputs": [
        {
          "output_type": "stream",
          "text": [
            "W0802 07:32:21.270485 139825927694208 deprecation.py:323] From <ipython-input-14-33a81818d5b8>:33: softmax_cross_entropy_with_logits (from tensorflow.python.ops.nn_ops) is deprecated and will be removed in a future version.\n",
            "Instructions for updating:\n",
            "\n",
            "Future major versions of TensorFlow will allow gradients to flow\n",
            "into the labels input on backprop by default.\n",
            "\n",
            "See `tf.nn.softmax_cross_entropy_with_logits_v2`.\n",
            "\n"
          ],
          "name": "stderr"
        },
        {
          "output_type": "execute_result",
          "data": {
            "text/plain": [
              "<tf.Tensor 'accuracy:0' shape=() dtype=string>"
            ]
          },
          "metadata": {
            "tags": []
          },
          "execution_count": 14
        }
      ]
    },
    {
      "cell_type": "code",
      "metadata": {
        "id": "04Zf685B6_4c",
        "colab_type": "code",
        "colab": {}
      },
      "source": [
        "def show_progress(epoch, feed_dict_train, feed_dict_validate, val_loss):\n",
        "    acc = session.run(accuracy, feed_dict=feed_dict_train)\n",
        "    val_acc = session.run(accuracy, feed_dict=feed_dict_validate)\n",
        "    msg = \"Training Epoch {0} --- Training Accuracy: {1:>6.1%}, Validation Accuracy: {2:>6.1%},  Validation Loss: {3:.3f}\"\n",
        "    print(msg.format(epoch + 1, acc, val_acc, val_loss))\n",
        "\n",
        "total_iterations = 0\n",
        "\n",
        "saverx = tf.train.Saver()"
      ],
      "execution_count": 0,
      "outputs": []
    },
    {
      "cell_type": "markdown",
      "metadata": {
        "id": "UFhldSLXS8ZN",
        "colab_type": "text"
      },
      "source": [
        "Function for performing a number of optimization iterations so as to gradually improve the variables of the network layers. In each iteration, a new batch of data is selected from the training-set and then TensorFlow executes the optimizer using those training samples. The progress is printed every 100 iterations."
      ]
    },
    {
      "cell_type": "code",
      "metadata": {
        "id": "ksWREgQ-7DeR",
        "colab_type": "code",
        "colab": {}
      },
      "source": [
        "def train(num_iteration):\n",
        "    global total_iterations\n",
        "    \n",
        "    for i in range(total_iterations,\n",
        "                   total_iterations + num_iteration):\n",
        "\n",
        "        x_batch, y_true_batch, _, cls_batch = data.train.next_batch(batch_size)\n",
        "        x_valid_batch, y_valid_batch, _, valid_cls_batch = data.valid.next_batch(batch_size)\n",
        "        #print(x_batch)\n",
        "        #print(y_true_batch)\n",
        "        \n",
        "        feed_dict_tr = {x: x_batch,\n",
        "                           y_true: y_true_batch}\n",
        "        feed_dict_val = {x: x_valid_batch,\n",
        "                              y_true: y_valid_batch}\n",
        "\n",
        "        session.run(optimizer, feed_dict=feed_dict_tr)\n",
        "\n",
        "        if i % int(data.train.num_examples/batch_size) == 0: \n",
        "            #s=session.run(merged_summary,feed_dict={x: x_batch,   y_true: y_true_batch})\n",
        "           # write.add_summary(s,i)\n",
        "                 \n",
        "            val_loss = session.run(cost, feed_dict=feed_dict_val)\n",
        "            epoch = int(i / int(data.train.num_examples/batch_size))    \n",
        "            \n",
        "            show_progress(epoch, feed_dict_tr, feed_dict_val, val_loss)\n",
        "            saverx.save(session, 'drive/My Drive/output') \n",
        "\n",
        "\n",
        "    total_iterations += num_iteration"
      ],
      "execution_count": 0,
      "outputs": []
    },
    {
      "cell_type": "markdown",
      "metadata": {
        "id": "0tRnCorYTAUe",
        "colab_type": "text"
      },
      "source": [
        "# Training our model\n",
        "## **Performance after 200 optimization iterations**\n",
        "\n"
      ]
    },
    {
      "cell_type": "code",
      "metadata": {
        "id": "POoO6OEK8nDO",
        "colab_type": "code",
        "outputId": "bb1e88b8-62bd-4f65-8ccc-d7ee33170d1d",
        "colab": {
          "base_uri": "https://localhost:8080/",
          "height": 340
        }
      },
      "source": [
        "train(num_iteration=200)"
      ],
      "execution_count": 0,
      "outputs": [
        {
          "output_type": "stream",
          "text": [
            "Training Epoch 1 --- Training Accuracy:  40.6%, Validation Accuracy:  37.5%,  Validation Loss: 1.382\n",
            "Training Epoch 2 --- Training Accuracy:  62.5%, Validation Accuracy:  53.1%,  Validation Loss: 1.315\n",
            "Training Epoch 3 --- Training Accuracy:  75.0%, Validation Accuracy:  81.2%,  Validation Loss: 1.199\n",
            "Training Epoch 4 --- Training Accuracy:  75.0%, Validation Accuracy:  81.2%,  Validation Loss: 1.114\n",
            "Training Epoch 5 --- Training Accuracy:  75.0%, Validation Accuracy:  81.2%,  Validation Loss: 0.863\n",
            "Training Epoch 6 --- Training Accuracy:  81.2%, Validation Accuracy:  81.2%,  Validation Loss: 0.811\n",
            "Training Epoch 7 --- Training Accuracy:  84.4%, Validation Accuracy:  81.2%,  Validation Loss: 0.532\n",
            "Training Epoch 8 --- Training Accuracy:  84.4%, Validation Accuracy:  81.2%,  Validation Loss: 0.675\n",
            "Training Epoch 9 --- Training Accuracy:  84.4%, Validation Accuracy:  84.4%,  Validation Loss: 0.427\n",
            "Training Epoch 10 --- Training Accuracy:  84.4%, Validation Accuracy:  84.4%,  Validation Loss: 0.604\n",
            "Training Epoch 11 --- Training Accuracy:  87.5%, Validation Accuracy:  84.4%,  Validation Loss: 0.379\n",
            "Training Epoch 12 --- Training Accuracy:  87.5%, Validation Accuracy:  81.2%,  Validation Loss: 0.559\n",
            "Training Epoch 13 --- Training Accuracy:  87.5%, Validation Accuracy:  84.4%,  Validation Loss: 0.357\n",
            "Training Epoch 14 --- Training Accuracy:  96.9%, Validation Accuracy:  81.2%,  Validation Loss: 0.535\n",
            "Training Epoch 15 --- Training Accuracy:  96.9%, Validation Accuracy:  87.5%,  Validation Loss: 0.369\n",
            "Training Epoch 16 --- Training Accuracy:  96.9%, Validation Accuracy:  81.2%,  Validation Loss: 0.519\n",
            "Training Epoch 17 --- Training Accuracy:  96.9%, Validation Accuracy:  87.5%,  Validation Loss: 0.393\n",
            "Training Epoch 18 --- Training Accuracy: 100.0%, Validation Accuracy:  81.2%,  Validation Loss: 0.492\n",
            "Training Epoch 19 --- Training Accuracy: 100.0%, Validation Accuracy:  87.5%,  Validation Loss: 0.409\n"
          ],
          "name": "stdout"
        }
      ]
    },
    {
      "cell_type": "markdown",
      "metadata": {
        "id": "_Gd3wgZGTjQc",
        "colab_type": "text"
      },
      "source": [
        "### I'm stopping the iterations at 200, because we derived 100% accuracy on training set. Further iterations may cause overfitting of the model."
      ]
    },
    {
      "cell_type": "markdown",
      "metadata": {
        "id": "waBCADQGFE09",
        "colab_type": "text"
      },
      "source": [
        "# **Training completed**\n",
        "\n",
        "# Let's test on sample\n",
        "\n"
      ]
    },
    {
      "cell_type": "code",
      "metadata": {
        "id": "bAGp4FRjWvsQ",
        "colab_type": "code",
        "colab": {}
      },
      "source": [
        "def sample_plot(test_pic):\n",
        "  \n",
        "  plt.axis('off')\n",
        "  \n",
        "  image = plt.imshow(test_pic)\n",
        "  \n",
        "  plt.show()"
      ],
      "execution_count": 0,
      "outputs": []
    },
    {
      "cell_type": "code",
      "metadata": {
        "id": "PmZOeiuU3F3_",
        "colab_type": "code",
        "colab": {}
      },
      "source": [
        "def sample_prediction(test_im):\n",
        "    \n",
        "    feed_dict_test = {\n",
        "        x: test_im.reshape(1,128,128,3),\n",
        "        y_true: np.array([[0,1,2,3]])\n",
        "    }\n",
        "\n",
        "    test_pred = session.run(y_pred_cls, feed_dict=feed_dict_test)\n",
        "    return classes[test_pred[0]]"
      ],
      "execution_count": 0,
      "outputs": []
    },
    {
      "cell_type": "markdown",
      "metadata": {
        "id": "fObLQml3ZQZr",
        "colab_type": "text"
      },
      "source": [
        "# **Plotting test dataset with predicted classes**"
      ]
    },
    {
      "cell_type": "markdown",
      "metadata": {
        "id": "SVfSVEiiyzVQ",
        "colab_type": "text"
      },
      "source": [
        "## As, We can see that our CNN model gave 100% accurate results on the test data set. :)\n",
        "\n",
        "pls, scroll the images to see all the 30 image's resluts."
      ]
    },
    {
      "cell_type": "code",
      "metadata": {
        "id": "e4DmgV-FJoRQ",
        "colab_type": "code",
        "outputId": "da45f68f-6433-458e-8336-6255bae34327",
        "colab": {
          "base_uri": "https://localhost:8080/",
          "height": 1000
        }
      },
      "source": [
        "for i in range(30):\n",
        "  \n",
        "  sample_plot(test_images[i])\n",
        "  \n",
        "  print(\"Predicted class for this image {} is : {}\".format(i+1,sample_prediction(test_images[i])))"
      ],
      "execution_count": 0,
      "outputs": [
        {
          "output_type": "display_data",
          "data": {
            "image/png": "[encoded data removed]",
            "text/plain": [
              "<Figure size 432x288 with 1 Axes>"
            ]
          },
          "metadata": {
            "tags": []
          }
        },
        {
          "output_type": "stream",
          "text": [
            "Predicted class for image 1 is : category 1\n"
          ],
          "name": "stdout"
        },
        {
          "output_type": "display_data",
          "data": {
            "image/png": "[encoded data removed]",
            "text/plain": [
              "<Figure size 432x288 with 1 Axes>"
            ]
          },
          "metadata": {
            "tags": []
          }
        },
        {
          "output_type": "stream",
          "text": [
            "Predicted class for image 2 is : category 1\n"
          ],
          "name": "stdout"
        },
        {
          "output_type": "display_data",
          "data": {
            "image/png": "[encoded data removed]",
            "text/plain": [
              "<Figure size 432x288 with 1 Axes>"
            ]
          },
          "metadata": {
            "tags": []
          }
        },
        {
          "output_type": "stream",
          "text": [
            "Predicted class for image 3 is : category 3\n"
          ],
          "name": "stdout"
        },
        {
          "output_type": "display_data",
          "data": {
            "image/png": "[encoded data removed]",
            "text/plain": [
              "<Figure size 432x288 with 1 Axes>"
            ]
          },
          "metadata": {
            "tags": []
          }
        },
        {
          "output_type": "stream",
          "text": [
            "Predicted class for image 4 is : category 3\n"
          ],
          "name": "stdout"
        },
        {
          "output_type": "display_data",
          "data": {
            "image/png": "[encoded data removed]",
            "text/plain": [
              "<Figure size 432x288 with 1 Axes>"
            ]
          },
          "metadata": {
            "tags": []
          }
        },
        {
          "output_type": "stream",
          "text": [
            "Predicted class for image 5 is : category 3\n"
          ],
          "name": "stdout"
        },
        {
          "output_type": "display_data",
          "data": {
            "image/png": "[encoded data removed]",
            "text/plain": [
              "<Figure size 432x288 with 1 Axes>"
            ]
          },
          "metadata": {
            "tags": []
          }
        },
        {
          "output_type": "stream",
          "text": [
            "Predicted class for image 6 is : category 3\n"
          ],
          "name": "stdout"
        },
        {
          "output_type": "display_data",
          "data": {
            "image/png": "[encoded data removed]",
            "text/plain": [
              "<Figure size 432x288 with 1 Axes>"
            ]
          },
          "metadata": {
            "tags": []
          }
        },
        {
          "output_type": "stream",
          "text": [
            "Predicted class for image 7 is : category 2\n"
          ],
          "name": "stdout"
        },
        {
          "output_type": "display_data",
          "data": {
            "image/png": "[encoded data removed]",
            "text/plain": [
              "<Figure size 432x288 with 1 Axes>"
            ]
          },
          "metadata": {
            "tags": []
          }
        },
        {
          "output_type": "stream",
          "text": [
            "Predicted class for image 8 is : category 2\n"
          ],
          "name": "stdout"
        },
        {
          "output_type": "display_data",
          "data": {
            "image/png": "[encoded data removed]",
            "text/plain": [
              "<Figure size 432x288 with 1 Axes>"
            ]
          },
          "metadata": {
            "tags": []
          }
        },
        {
          "output_type": "stream",
          "text": [
            "Predicted class for image 9 is : category 4\n"
          ],
          "name": "stdout"
        },
        {
          "output_type": "display_data",
          "data": {
            "image/png": "[encoded data removed]",
            "text/plain": [
              "<Figure size 432x288 with 1 Axes>"
            ]
          },
          "metadata": {
            "tags": []
          }
        },
        {
          "output_type": "stream",
          "text": [
            "Predicted class for image 10 is : category 4\n"
          ],
          "name": "stdout"
        },
        {
          "output_type": "display_data",
          "data": {
            "image/png": "[encoded data removed]",
            "text/plain": [
              "<Figure size 432x288 with 1 Axes>"
            ]
          },
          "metadata": {
            "tags": []
          }
        },
        {
          "output_type": "stream",
          "text": [
            "Predicted class for image 11 is : category 1\n"
          ],
          "name": "stdout"
        },
        {
          "output_type": "display_data",
          "data": {
            "image/png": "[encoded data removed]",
            "text/plain": [
              "<Figure size 432x288 with 1 Axes>"
            ]
          },
          "metadata": {
            "tags": []
          }
        },
        {
          "output_type": "stream",
          "text": [
            "Predicted class for image 12 is : category 1\n"
          ],
          "name": "stdout"
        },
        {
          "output_type": "display_data",
          "data": {
            "image/png": "[encoded data removed]",
            "text/plain": [
              "<Figure size 432x288 with 1 Axes>"
            ]
          },
          "metadata": {
            "tags": []
          }
        },
        {
          "output_type": "stream",
          "text": [
            "Predicted class for image 13 is : category 1\n"
          ],
          "name": "stdout"
        },
        {
          "output_type": "display_data",
          "data": {
            "image/png": "[encoded data removed]",
            "text/plain": [
              "<Figure size 432x288 with 1 Axes>"
            ]
          },
          "metadata": {
            "tags": []
          }
        },
        {
          "output_type": "stream",
          "text": [
            "Predicted class for image 14 is : category 3\n"
          ],
          "name": "stdout"
        },
        {
          "output_type": "display_data",
          "data": {
            "image/png": "[encoded data removed]",
            "text/plain": [
              "<Figure size 432x288 with 1 Axes>"
            ]
          },
          "metadata": {
            "tags": []
          }
        },
        {
          "output_type": "stream",
          "text": [
            "Predicted class for image 15 is : category 3\n"
          ],
          "name": "stdout"
        },
        {
          "output_type": "display_data",
          "data": {
            "image/png": "[encoded data removed]",
            "text/plain": [
              "<Figure size 432x288 with 1 Axes>"
            ]
          },
          "metadata": {
            "tags": []
          }
        },
        {
          "output_type": "stream",
          "text": [
            "Predicted class for image 16 is : category 3\n"
          ],
          "name": "stdout"
        },
        {
          "output_type": "display_data",
          "data": {
            "image/png": "[encoded data removed]",
            "text/plain": [
              "<Figure size 432x288 with 1 Axes>"
            ]
          },
          "metadata": {
            "tags": []
          }
        },
        {
          "output_type": "stream",
          "text": [
            "Predicted class for image 17 is : category 3\n"
          ],
          "name": "stdout"
        },
        {
          "output_type": "display_data",
          "data": {
            "image/png": "[encoded data removed]",
            "text/plain": [
              "<Figure size 432x288 with 1 Axes>"
            ]
          },
          "metadata": {
            "tags": []
          }
        },
        {
          "output_type": "stream",
          "text": [
            "Predicted class for image 18 is : category 3\n"
          ],
          "name": "stdout"
        },
        {
          "output_type": "display_data",
          "data": {
            "image/png": "[encoded data removed]",
            "text/plain": [
              "<Figure size 432x288 with 1 Axes>"
            ]
          },
          "metadata": {
            "tags": []
          }
        },
        {
          "output_type": "stream",
          "text": [
            "Predicted class for image 19 is : category 3\n"
          ],
          "name": "stdout"
        },
        {
          "output_type": "display_data",
          "data": {
            "image/png": "[encoded data removed]",
            "text/plain": [
              "<Figure size 432x288 with 1 Axes>"
            ]
          },
          "metadata": {
            "tags": []
          }
        },
        {
          "output_type": "stream",
          "text": [
            "Predicted class for image 20 is : category 3\n"
          ],
          "name": "stdout"
        },
        {
          "output_type": "display_data",
          "data": {
            "image/png": "[encoded data removed]",
            "text/plain": [
              "<Figure size 432x288 with 1 Axes>"
            ]
          },
          "metadata": {
            "tags": []
          }
        },
        {
          "output_type": "stream",
          "text": [
            "Predicted class for image 21 is : category 2\n"
          ],
          "name": "stdout"
        },
        {
          "output_type": "display_data",
          "data": {
            "image/png": "[encoded data removed]",
            "text/plain": [
              "<Figure size 432x288 with 1 Axes>"
            ]
          },
          "metadata": {
            "tags": []
          }
        },
        {
          "output_type": "stream",
          "text": [
            "Predicted class for image 22 is : category 2\n"
          ],
          "name": "stdout"
        },
        {
          "output_type": "display_data",
          "data": {
            "image/png": "[encoded data removed]",
            "text/plain": [
              "<Figure size 432x288 with 1 Axes>"
            ]
          },
          "metadata": {
            "tags": []
          }
        },
        {
          "output_type": "stream",
          "text": [
            "Predicted class for image 23 is : category 2\n"
          ],
          "name": "stdout"
        },
        {
          "output_type": "display_data",
          "data": {
            "image/png": "[encoded data removed]",
            "text/plain": [
              "<Figure size 432x288 with 1 Axes>"
            ]
          },
          "metadata": {
            "tags": []
          }
        },
        {
          "output_type": "stream",
          "text": [
            "Predicted class for image 24 is : category 2\n"
          ],
          "name": "stdout"
        },
        {
          "output_type": "display_data",
          "data": {
            "image/png": "[encoded data removed]",
            "text/plain": [
              "<Figure size 432x288 with 1 Axes>"
            ]
          },
          "metadata": {
            "tags": []
          }
        },
        {
          "output_type": "stream",
          "text": [
            "Predicted class for image 25 is : category 2\n"
          ],
          "name": "stdout"
        },
        {
          "output_type": "display_data",
          "data": {
            "image/png": "[encoded data removed]",
            "text/plain": [
              "<Figure size 432x288 with 1 Axes>"
            ]
          },
          "metadata": {
            "tags": []
          }
        },
        {
          "output_type": "stream",
          "text": [
            "Predicted class for image 26 is : category 2\n"
          ],
          "name": "stdout"
        },
        {
          "output_type": "display_data",
          "data": {
            "image/png": "[encoded data removed]",
            "text/plain": [
              "<Figure size 432x288 with 1 Axes>"
            ]
          },
          "metadata": {
            "tags": []
          }
        },
        {
          "output_type": "stream",
          "text": [
            "Predicted class for image 27 is : category 2\n"
          ],
          "name": "stdout"
        },
        {
          "output_type": "display_data",
          "data": {
            "image/png": "[encoded data removed]",
            "text/plain": [
              "<Figure size 432x288 with 1 Axes>"
            ]
          },
          "metadata": {
            "tags": []
          }
        },
        {
          "output_type": "stream",
          "text": [
            "Predicted class for image 28 is : category 4\n"
          ],
          "name": "stdout"
        },
        {
          "output_type": "display_data",
          "data": {
            "image/png": "[encoded data removed]",
            "text/plain": [
              "<Figure size 432x288 with 1 Axes>"
            ]
          },
          "metadata": {
            "tags": []
          }
        },
        {
          "output_type": "stream",
          "text": [
            "Predicted class for image 29 is : category 4\n"
          ],
          "name": "stdout"
        },
        {
          "output_type": "display_data",
          "data": {
            "image/png": "[encoded data removed]",
            "text/plain": [
              "<Figure size 432x288 with 1 Axes>"
            ]
          },
          "metadata": {
            "tags": []
          }
        },
        {
          "output_type": "stream",
          "text": [
            "Predicted class for image 30 is : category 4\n"
          ],
          "name": "stdout"
        }
      ]
    }
  ]
}